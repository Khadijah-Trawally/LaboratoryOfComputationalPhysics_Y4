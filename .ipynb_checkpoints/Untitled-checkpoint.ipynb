{
 "cells": [
  {
   "cell_type": "code",
   "execution_count": 3,
   "id": "00460986",
   "metadata": {},
   "outputs": [
    {
     "data": {
      "text/plain": [
       "array([[1, 2],\n",
       "       [3, 4],\n",
       "       [5, 6]])"
      ]
     },
     "execution_count": 3,
     "metadata": {},
     "output_type": "execute_result"
    }
   ],
   "source": [
    "import numpy as np\n",
    "x = np.array([[1, 2], [3, 4]])\n",
    "y = np.array([[5, 6]])\n",
    "np.concatenate((x, y))\n"
   ]
  },
  {
   "cell_type": "code",
   "execution_count": 4,
   "id": "64e15bee",
   "metadata": {},
   "outputs": [
    {
     "name": "stdout",
     "output_type": "stream",
     "text": [
      "0\n",
      "20\n",
      "60\n",
      "120\n",
      "200\n",
      "300\n",
      "420\n"
     ]
    }
   ],
   "source": [
    "list = [10, 20, 30, 40, 50, 60, 70]\n",
    "  \n",
    "for i, res in enumerate(list): \n",
    "    print (i* res)"
   ]
  },
  {
   "cell_type": "code",
   "execution_count": 10,
   "id": "a7bbf22b",
   "metadata": {},
   "outputs": [
    {
     "name": "stdout",
     "output_type": "stream",
     "text": [
      "[[4.17022005e-01 7.20324493e-01 1.14374817e-04 3.02332573e-01\n",
      "  1.46755891e-01]\n",
      " [9.23385948e-02 1.86260211e-01 3.45560727e-01 3.96767474e-01\n",
      "  5.38816734e-01]\n",
      " [4.19194514e-01 6.85219500e-01 2.04452250e-01 8.78117436e-01\n",
      "  2.73875932e-02]]\n",
      "[[0.67046751 0.4173048  0.55868983 0.14038694 0.19810149]\n",
      " [0.80074457 0.96826158 0.31342418 0.69232262 0.87638915]\n",
      " [0.89460666 0.08504421 0.03905478 0.16983042 0.8781425 ]]\n"
     ]
    }
   ],
   "source": [
    "random.seed(1)\n",
    "sample = np.random.rand(3, 5)\n",
    "sample1 = np.random.random([3, 5)\n",
    "print(sample)\n",
    "print(sample1)"
   ]
  },
  {
   "cell_type": "code",
   "execution_count": 13,
   "id": "d671b694",
   "metadata": {},
   "outputs": [
    {
     "data": {
      "text/plain": [
       "array([0.        , 1.57079633, 3.14159265])"
      ]
     },
     "execution_count": 13,
     "metadata": {},
     "output_type": "execute_result"
    }
   ],
   "source": [
    "import math\n",
    "b = np.linspace(0, math.pi, 3)\n",
    "b"
   ]
  },
  {
   "cell_type": "code",
   "execution_count": 18,
   "id": "d06e2caa",
   "metadata": {},
   "outputs": [
    {
     "name": "stdout",
     "output_type": "stream",
     "text": [
      "[0 1 2 3 4 5 6 7]\n",
      "[[[0 1]\n",
      "  [2 3]]\n",
      "\n",
      " [[4 5]\n",
      "  [6 7]]]\n",
      "[6 8]\n"
     ]
    }
   ],
   "source": [
    "a = np.arange(8)\n",
    "b = a.reshape((2,2,2))\n",
    "print (a)\n",
    "print(b)\n",
    "print (np.trace(b))"
   ]
  },
  {
   "cell_type": "code",
   "execution_count": 19,
   "id": "0f7ef016",
   "metadata": {},
   "outputs": [
    {
     "name": "stdout",
     "output_type": "stream",
     "text": [
      "[[0 1 2]\n",
      " [3 4 5]\n",
      " [6 7 8]]\n",
      "\n",
      "\n",
      "2-d Main diagonal :  [0 4 8]\n",
      "\n",
      "\n",
      "2-d Main diagonal :  [0 4 8]\n",
      "[[[0 1]\n",
      "  [2 3]]\n",
      "\n",
      " [[4 5]\n",
      "  [6 7]]]\n",
      "\n",
      "\n",
      " 3-d diagonal output :  [[0 6]\n",
      " [1 7]]\n"
     ]
    }
   ],
   "source": [
    "#import numpy library\n",
    "import numpy as np\n",
    " \n",
    "x = np.arange(9).reshape((3,3))\n",
    " \n",
    "print(x)\n",
    "print(\"\\n\")\n",
    "print(\"2-d Main diagonal : \",np.diag(x))\n",
    "print(\"\\n\")\n",
    " \n",
    "#numpy diagonal() example\n",
    "import numpy as np\n",
    " \n",
    "#2-d array\n",
    "x = np.arange(9).reshape((3,3))\n",
    "print(\"2-d Main diagonal : \",np.diagonal(x))\n",
    " \n",
    "#3-d array\n",
    "a = np.arange(8).reshape(2,2,2);\n",
    "print(a)\n",
    "print(\"\\n\")\n",
    "print(\" 3-d diagonal output : \",a.diagonal(0,0,1))"
   ]
  },
  {
   "cell_type": "code",
   "execution_count": null,
   "id": "ae59dc48",
   "metadata": {},
   "outputs": [],
   "source": [
    "algorithm Sieve of Eratosthenes is\n",
    "    input: an integer n > 1.\n",
    "    output: all prime numbers from 2 through n.\n",
    "\n",
    "    let A be an array of Boolean values, indexed by integers 2 to n,\n",
    "    initially all set to true.\n",
    "    \n",
    "    for i = 2, 3, 4, ..., not exceeding √n do\n",
    "        if A[i] is true\n",
    "            for j = i2, i2+i, i2+2i, i2+3i, ..., not exceeding n do\n",
    "                A[j] := false\n",
    "\n",
    "    return all i such that A[i] is true."
   ]
  },
  {
   "cell_type": "code",
   "execution_count": 20,
   "id": "c48babe0",
   "metadata": {},
   "outputs": [
    {
     "data": {
      "text/plain": [
       "array([ 2,  3,  5,  7, 11, 13, 17, 19, 23, 29, 31, 37, 41, 43, 47, 53, 59,\n",
       "       61, 67, 71, 73, 79, 83, 89, 97])"
      ]
     },
     "execution_count": 20,
     "metadata": {},
     "output_type": "execute_result"
    }
   ],
   "source": [
    "def first_n_prime_numbres(n):    \n",
    "    s = np.arange(3, n, 2)\n",
    "    for m in range(3, int(n ** 0.5)+1, 2):         \n",
    "        if s[(m-3)//2]: \n",
    "            s[(m*m-3)//2::m]=0\n",
    "    return np.r_[2, s[s>0]]\n",
    "\n",
    "first_n_prime_numbres(100)"
   ]
  },
  {
   "cell_type": "code",
   "execution_count": 24,
   "id": "53faf514",
   "metadata": {},
   "outputs": [
    {
     "ename": "IndentationError",
     "evalue": "unindent does not match any outer indentation level (<tokenize>, line 3)",
     "output_type": "error",
     "traceback": [
      "\u001b[1;36m  File \u001b[1;32m\"<tokenize>\"\u001b[1;36m, line \u001b[1;32m3\u001b[0m\n\u001b[1;33m    sieve = np.ones(n // 3 + (n % 6 == 2), dtype=np.bool_)  # all True\u001b[0m\n\u001b[1;37m    ^\u001b[0m\n\u001b[1;31mIndentationError\u001b[0m\u001b[1;31m:\u001b[0m unindent does not match any outer indentation level\n"
     ]
    }
   ],
   "source": [
    " if n <= 1:# values returning an empty array\n",
    "        return np.ones(0, dtype=np.bool_)\n",
    "    sieve = np.ones(n // 3 + (n % 6 == 2), dtype=np.bool_)  # all True\n",
    "    sieve[0] = False   # note 1 is not prime\n",
    "    for i in range(1, (math.ceil(math.sqrt(n)) + 1) // 3): # sometimes large\n",
    "        if sieve[i]:\n",
    "            k = 3 * i + 1 | 1  # the associated number for this cell\n",
    "            # Mark some of the stored multiples of the number as composite\n",
    "            sieve[k * k                 // 3 :: 2 * k] = False\n",
    "            # Mark the remaining stored multiples (k times next possible prime)\n",
    "            sieve[k * (k + 4 - 2*(i&1)) // 3 :: 2 * k] = False\n",
    "        return sieve"
   ]
  },
  {
   "cell_type": "code",
   "execution_count": null,
   "id": "60fe6cb8",
   "metadata": {},
   "outputs": [],
   "source": [
    "def primesfrom2to(n):\n",
    "    # https://stackoverflow.com/questions/2068372/fastest-way-to-list-all-primes-below-n-in-python/3035188#3035188\n",
    "    \"\"\" Input n>=6, Returns a array of primes, 2 <= p < n \"\"\"\n",
    "    sieve = np.ones(n/3 + (n%6==2), dtype=np.bool)\n",
    "    sieve[0] = False\n",
    "    for i in xrange(int(n**0.5)/3+1):\n",
    "        if sieve[i]:\n",
    "            k=3*i+1|1\n",
    "            sieve[      ((k*k)/3)      ::2*k] = False\n",
    "            sieve[(k*k+4*k-2*k*(i&1))/3::2*k] = False\n",
    "    return np.r_[2,3,((3*np.nonzero(sieve)[0]+1)|1)]"
   ]
  },
  {
   "cell_type": "code",
   "execution_count": 26,
   "id": "0d31d571",
   "metadata": {},
   "outputs": [],
   "source": [
    "def primesieve3rd(n):\n",
    "    \"\"\"Return 'a third of a prime sieve' for values less than n that\n",
    "    are in the form 6k-1 or 6k+1.\n",
    "\n",
    "    RETURN: A numpy boolean array. A True value means the associated\n",
    "            number is prime; False means 1 or composite.\n",
    "\n",
    "    NOTES:  1.  If j is in that form then the index for its primality\n",
    "                test is j // 3.\n",
    "            2.  The numbers 2 and 3 are not handled in the sieve.\n",
    "            3.  This code is based on primesfrom2to in\n",
    "                <https://stackoverflow.com/questions/2068372/\n",
    "                fastest-way-to-list-all-primes-below-n-in-python/\n",
    "                3035188#3035188>\n",
    "    \"\"\"\n",
    "    =\\\n",
    "    if n <= 1:  # values returning an empty arra        return np.ones(0, dtype=np.bool_)\n",
    "    sieve = np.ones(n // 3 + (n % 6 == 2), dtype=np.bool_)  # all True\n",
    "    sieve[0] = False   # note 1 is not prime\n",
    "    for i in range(1, (math.ceil(math.sqrt(n)) + 1) // 3): # sometimes large\n",
    "        if sieve[i]:\n",
    "            k = 3 * i + 1 | 1  # the associated number for this cell\n",
    "            # Mark some of the stored multiples of the number as composite\n",
    "            sieve[k * k                 // 3 :: 2 * k] = False\n",
    "            # Mark the remaining stored multiples (k times next possible prime)\n",
    "            sieve[k * (k + 4 - 2*(i&1)) // 3 :: 2 * k] = False\n",
    "    return sieve\n",
    "\n",
    "def primesfrom2to(n, sieve=None):\n",
    "    \"\"\"Return an array of prime numbers less than n.\n",
    "\n",
    "    RETURN: A numpty int64 (indices type) array.\n",
    "\n",
    "    NOTES:  1.  This code is based on primesfrom2to in\n",
    "                <https://stackoverflow.com/questions/2068372/\n",
    "                fastest-way-to-list-all-primes-below-n-in-python/\n",
    "                3035188#3035188>\n",
    "    \"\"\"\n",
    "    if n <= 5:\n",
    "        return np.array([2, 3], dtype=np.intp)[:max(n - 2, 0)]\n",
    "    if sieve is None:\n",
    "        sieve = primesieve3rd(n)\n",
    "    elif n >= 3 * len(sieve) + 1 | 1:  # the next number to note in the sieve\n",
    "        raise ValueError('Number out of range of the sieve in '\n",
    "                         'primesfrom2to')\n",
    "    return np.r_[2, 3, 3 * np.nonzero(sieve)[0] + 1 | 1]"
   ]
  },
  {
   "cell_type": "code",
   "execution_count": null,
   "id": "3464c4d0",
   "metadata": {},
   "outputs": [],
   "source": [
    "def primesieve3rd(n):\n",
    "    \"\"\"Return 'a third of a prime sieve' for values less than n that\n",
    "    are in the form 6k-1 or 6k+1.\n",
    "\n",
    "    RETURN: A numpy boolean array. A True value means the associated\n",
    "            number is prime; False means 1 or composite.\n",
    "\n",
    "    NOTES:  1.  If j is in that form then the index for its primality\n",
    "                test is j // 3.\n",
    "            2.  The numbers 2 and 3 are not handled in the sieve.\n",
    "            3.  This code is based on primesfrom2to in\n",
    "                <https://stackoverflow.com/questions/2068372/\n",
    "                fastest-way-to-list-all-primes-below-n-in-python/\n",
    "                3035188#3035188>\n",
    "    \"\"\"\n",
    "    =\\\n",
    "    if n <= 1:  # values returning an empty arra        return np.ones(0, dtype=np.bool_)\n",
    "    sieve = np.ones(n // 3 + (n % 6 == 2), dtype=np.bool_)  # all True\n",
    "    sieve[0] = False   # note 1 is not prime\n",
    "    for i in range(1, (math.ceil(math.sqrt(n)) + 1) // 3): # sometimes large\n",
    "        if sieve[i]:\n",
    "            k = 3 * i + 1 | 1  # the associated number for this cell\n",
    "            # Mark some of the stored multiples of the number as composite\n",
    "            sieve[k * k                 // 3 :: 2 * k] = False\n",
    "            # Mark the remaining stored multiples (k times next possible prime)\n",
    "            sieve[k * (k + 4 - 2*(i&1)) // 3 :: 2 * k] = False\n",
    "    return sieve\n",
    "\n",
    "def primesfrom2to(n, sieve=None):\n",
    "    \"\"\"Return an array of prime numbers less than n.\n",
    "\n",
    "    RETURN: A numpty int64 (indices type) array.\n",
    "\n",
    "    NOTES:  1.  This code is based on primesfrom2to in\n",
    "                <https://stackoverflow.com/questions/2068372/\n",
    "                fastest-way-to-list-all-primes-below-n-in-python/\n",
    "                3035188#3035188>\n",
    "    \"\"\"\n",
    "    if n <= 5:\n",
    "        return np.array([2, 3], dtype=np.intp)[:max(n - 2, 0)]\n",
    "    if sieve is None:\n",
    "        sieve = primesieve3rd(n)\n",
    "    elif n >= 3 * len(sieve) + 1 | 1:  # the next number to note in the sieve\n",
    "        raise ValueError('Number out of range of the sieve in '\n",
    "                         'primesfrom2to')\n",
    "    return np.r_[2, 3, 3 * np.nonzero(sieve)[0] + 1 | 1]"
   ]
  },
  {
   "cell_type": "code",
   "execution_count": null,
   "id": "9fa031a3",
   "metadata": {},
   "outputs": [],
   "source": [
    "Enter value of a:5\n",
    "Enter value of b:3\n",
    "Enter value of c:2\n",
    "Solutions of the equation are:\n",
    "X1 is: (-0.3-0.5567764362830021j)\n",
    "X2 is: (-0.3+0.5567764362830021j)"
   ]
  },
  {
   "cell_type": "code",
   "execution_count": 28,
   "id": "79572169",
   "metadata": {},
   "outputs": [
    {
     "name": "stdout",
     "output_type": "stream",
     "text": [
      "IEEE 754 representation of -2.250000 is :\n",
      "1|10000000|00100000000000000000000\n"
     ]
    }
   ],
   "source": [
    "# Python program to convert a real value\n",
    "# to IEEE 754 Floating Point Representation.\n",
    "\n",
    "# Function to convert a\n",
    "# fraction to binary form.\n",
    "def binaryOfFraction(fraction):\n",
    "\n",
    "\t# Declaring an empty string\n",
    "\t# to store binary bits.\n",
    "\tbinary = str()\n",
    "\n",
    "\t# Iterating through\n",
    "\t# fraction until it\n",
    "\t# becomes Zero.\n",
    "\twhile (fraction):\n",
    "\t\t\n",
    "\t\t# Multiplying fraction by 2.\n",
    "\t\tfraction *= 2\n",
    "\n",
    "\t\t# Storing Integer Part of\n",
    "\t\t# Fraction in int_part.\n",
    "\t\tif (fraction >= 1):\n",
    "\t\t\tint_part = 1\n",
    "\t\t\tfraction -= 1\n",
    "\t\telse:\n",
    "\t\t\tint_part = 0\n",
    "\t\n",
    "\t\t# Adding int_part to binary\n",
    "\t\t# after every iteration.\n",
    "\t\tbinary += str(int_part)\n",
    "\n",
    "\t# Returning the binary string.\n",
    "\treturn binary\n",
    "\n",
    "# Function to get sign bit,\n",
    "# exp bits and mantissa bits,\n",
    "# from given real no.\n",
    "def floatingPoint(real_no):\n",
    "\n",
    "\t# Setting Sign bit\n",
    "\t# default to zero.\n",
    "\tsign_bit = 0\n",
    "\n",
    "\t# Sign bit will set to\n",
    "\t# 1 for negative no.\n",
    "\tif(real_no < 0):\n",
    "\t\tsign_bit = 1\n",
    "\n",
    "\t# converting given no. to\n",
    "\t# absolute value as we have\n",
    "\t# already set the sign bit.\n",
    "\treal_no = abs(real_no)\n",
    "\n",
    "\t# Converting Integer Part\n",
    "\t# of Real no to Binary\n",
    "\tint_str = bin(int(real_no))[2 : ]\n",
    "\n",
    "\t# Function call to convert\n",
    "\t# Fraction part of real no\n",
    "\t# to Binary.\n",
    "\tfraction_str = binaryOfFraction(real_no - int(real_no))\n",
    "\n",
    "\t# Getting the index where\n",
    "\t# Bit was high for the first\n",
    "\t# Time in binary repres\n",
    "\t# of Integer part of real no.\n",
    "\tind = int_str.index('1')\n",
    "\n",
    "\t# The Exponent is the no.\n",
    "\t# By which we have right\n",
    "\t# Shifted the decimal and\n",
    "\t# it is given below.\n",
    "\t# Also converting it to bias\n",
    "\t# exp by adding 127.\n",
    "\texp_str = bin((len(int_str) - ind - 1) + 127)[2 : ]\n",
    "\n",
    "\t# getting mantissa string\n",
    "\t# By adding int_str and fraction_str.\n",
    "\t# the zeroes in MSB of int_str\n",
    "\t# have no significance so they\n",
    "\t# are ignored by slicing.\n",
    "\tmant_str = int_str[ind + 1 : ] + fraction_str\n",
    "\n",
    "\t# Adding Zeroes in LSB of\n",
    "\t# mantissa string so as to make\n",
    "\t# it's length of 23 bits.\n",
    "\tmant_str = mant_str + ('0' * (23 - len(mant_str)))\n",
    "\n",
    "\t# Returning the sign, Exp\n",
    "\t# and Mantissa Bit strings.\n",
    "\treturn sign_bit, exp_str, mant_str\n",
    "\n",
    "# Driver Code\n",
    "if __name__ == \"__main__\":\n",
    "\n",
    "\t# Function call to get\n",
    "\t# Sign, Exponent and\n",
    "\t# Mantissa Bit Strings.\n",
    "\tsign_bit, exp_str, mant_str = floatingPoint(-2.250000)\n",
    "\n",
    "\t# Final Floating point Representation.\n",
    "\tieee_32 = str(sign_bit) + '|' + exp_str + '|' + mant_str\n",
    "\n",
    "\t# Printing the ieee 32 representation.\n",
    "\tprint(\"IEEE 754 representation of -2.250000 is :\")\n",
    "\tprint(ieee_32)\n"
   ]
  },
  {
   "cell_type": "code",
   "execution_count": null,
   "id": "f40aa4d0",
   "metadata": {},
   "outputs": [],
   "source": [
    "\n",
    "# def binary(number):\n",
    "#     B = int(number,2)\n",
    "     \n",
    "#     return B \n",
    "# def binaryOfFraction(fraction):\n",
    "\n",
    "\n",
    "#     binary = str()\n",
    "#     while (fraction):\n",
    "#         fraction *= 2\n",
    "#         if (fraction >= 1):\n",
    "#             int_part = 1\n",
    "#             fraction -= 1\n",
    "#         else:\n",
    "#             int_part = 0\n",
    "#         binary += str(int_part)\n",
    "\n",
    "#     return binary\n",
    "#number = input(\"Enter binary:\")"
   ]
  },
  {
   "cell_type": "code",
   "execution_count": null,
   "id": "866b930a",
   "metadata": {},
   "outputs": [],
   "source": [
    "# Function to convert a\n",
    "# fraction to binary form.\n",
    "def binaryOfFraction(fraction):\n",
    "\n",
    "\n",
    "    binary = str()\n",
    "    while (fraction):\n",
    "        fraction *= 2\n",
    "        if (fraction >= 1):\n",
    "            int_part = 1\n",
    "            fraction -= 1\n",
    "        else:\n",
    "            int_part = 0\n",
    "        binary += str(int_part)\n",
    "\n",
    "return binary"
   ]
  }
 ],
 "metadata": {
  "kernelspec": {
   "display_name": "Python 3",
   "language": "python",
   "name": "python3"
  },
  "language_info": {
   "codemirror_mode": {
    "name": "ipython",
    "version": 3
   },
   "file_extension": ".py",
   "mimetype": "text/x-python",
   "name": "python",
   "nbconvert_exporter": "python",
   "pygments_lexer": "ipython3",
   "version": "3.8.8"
  }
 },
 "nbformat": 4,
 "nbformat_minor": 5
}
